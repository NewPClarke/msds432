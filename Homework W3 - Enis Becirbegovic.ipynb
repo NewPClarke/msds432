{
 "cells": [
  {
   "cell_type": "code",
   "execution_count": 1,
   "metadata": {},
   "outputs": [],
   "source": [
    "import copy\n",
    "import numpy as np\n",
    "import pandas as pd\n",
    "import timeit\n",
    "import inspect\n",
    "import time\n",
    "import pandas as pd \n",
    "import seaborn as sns\n",
    "import matplotlib.pyplot as plt\n",
    "sns.set()"
   ]
  },
  {
   "cell_type": "code",
   "execution_count": 4,
   "metadata": {},
   "outputs": [],
   "source": [
    "def fact(x):\n",
    "    if x == 1:\n",
    "        return 1\n",
    "    else:\n",
    "        return int(x) * int(fact(x-1))\n",
    "    \n",
    "def fact_loop(x):\n",
    "    \n",
    "    if x < 0:\n",
    "        return\n",
    "    \n",
    "    result = 1\n",
    "    for i in range(1,x+1):\n",
    "        result = result*i\n",
    "        \n",
    "    return result\n",
    "\n",
    "\n",
    "def create_random_array(low,high,size,seed):    \n",
    "    np.random.seed(seed)\n",
    "    integer_array = np.random.randint(low,high,size)   \n",
    "    return integer_array  #  np.sort(integer_array, kind='quicksort' )\n",
    "\n"
   ]
  },
  {
   "cell_type": "code",
   "execution_count": 5,
   "metadata": {},
   "outputs": [
    {
     "name": "stdout",
     "output_type": "stream",
     "text": [
      "3628800\n",
      "3628800\n"
     ]
    }
   ],
   "source": [
    "# Test\n",
    "print(fact(10))\n",
    "print(fact_loop(10))"
   ]
  },
  {
   "cell_type": "markdown",
   "metadata": {},
   "source": [
    "### 1.\n",
    "\n",
    "Set up an array of ten random numbers between 100 and 500 (just one array with 10 numbers)."
   ]
  },
  {
   "cell_type": "code",
   "execution_count": 8,
   "metadata": {},
   "outputs": [
    {
     "data": {
      "text/plain": [
       "[137, 172, 233, 244, 303, 335, 355, 435, 493, 496]"
      ]
     },
     "execution_count": 8,
     "metadata": {},
     "output_type": "execute_result"
    }
   ],
   "source": [
    "array = list(create_random_array(low=100,high=500+1,size=10, seed=1))\n",
    "array = sorted(array)\n",
    "array"
   ]
  },
  {
   "cell_type": "markdown",
   "metadata": {},
   "source": [
    "This code section creates the random array of 10 integers between 100 and 500. **I have sorted the array so that the graph shows the increase in time as the size increase.**\n"
   ]
  },
  {
   "cell_type": "markdown",
   "metadata": {},
   "source": [
    "### 2.\n",
    "Calculate the factorial of each of the numbers using a simple FOR loop. Please capture the\n",
    "start/end times and store the results in an array, or linked list, or dictionary"
   ]
  },
  {
   "cell_type": "code",
   "execution_count": 20,
   "metadata": {},
   "outputs": [
    {
     "name": "stdout",
     "output_type": "stream",
     "text": [
      "137 6.113300014476408e-05\n",
      "172 6.604099985452194e-05\n",
      "233 8.745999980419583e-05\n",
      "244 9.236799996870104e-05\n",
      "303 0.00012672699995164294\n",
      "335 0.00014368400002240378\n",
      "355 0.00014859199995953531\n",
      "435 0.00021106300005158118\n",
      "493 0.0002507770000192977\n",
      "496 0.0002503309999610792\n"
     ]
    }
   ],
   "source": [
    "stored_times_loop = []\n",
    "\n",
    "for element in array:\n",
    "    \n",
    "    start = time.perf_counter()    \n",
    "    fact_loop(element)\n",
    "    end = time.perf_counter()\n",
    "    total_time1 = end-start\n",
    "    stored_times_loop.append(total_time1)\n",
    "    print(element, total_time1)"
   ]
  },
  {
   "cell_type": "markdown",
   "metadata": {},
   "source": [
    "### Discussion:\n",
    "\n",
    "The loop above iterates over the array elements and stores run time from the ***loop*** function in a list data structure that will be aggregated in the next step."
   ]
  },
  {
   "cell_type": "markdown",
   "metadata": {},
   "source": [
    "### 3.\n",
    "\n",
    "Calculate the factorial of each of the numbers using recursion. Please capture the start/end times\n",
    "and store the results in an array, or linked list, or dictionary."
   ]
  },
  {
   "cell_type": "code",
   "execution_count": 21,
   "metadata": {},
   "outputs": [
    {
     "name": "stdout",
     "output_type": "stream",
     "text": [
      "137 0.0004007079999155394\n",
      "172 0.00045113100009075424\n",
      "233 0.0006461299999500625\n",
      "244 0.0006229260000054637\n",
      "303 0.0007750889999442734\n",
      "335 0.0009053850001237151\n",
      "355 0.0009517919997961144\n",
      "435 0.0012297890000354528\n",
      "493 0.0014234489999580546\n",
      "496 0.0010575470000731002\n"
     ]
    }
   ],
   "source": [
    "stored_times_recursive =  []\n",
    "\n",
    "for element in array:\n",
    "    start = time.perf_counter()\n",
    "    fact(element)\n",
    "    end = time.perf_counter()\n",
    "    total_time2 = end-start\n",
    "    stored_times_recursive.append(total_time2)    \n",
    "    print(element, total_time2)"
   ]
  },
  {
   "cell_type": "markdown",
   "metadata": {},
   "source": [
    "### Discussion:\n",
    "\n",
    "The loop above iterates over the array elements and stores run time from the ***recursive*** function in a list data structure that will be aggregated in the next step."
   ]
  },
  {
   "cell_type": "markdown",
   "metadata": {},
   "source": [
    "### 4.\n",
    "Organize the results of the study into a table showing the number, it's factorial, the time to calculate\n",
    "the factorial using recursion, the time to calculate factorial using FOR loop, and the difference between times."
   ]
  },
  {
   "cell_type": "code",
   "execution_count": 22,
   "metadata": {},
   "outputs": [
    {
     "data": {
      "text/html": [
       "<div>\n",
       "<style scoped>\n",
       "    .dataframe tbody tr th:only-of-type {\n",
       "        vertical-align: middle;\n",
       "    }\n",
       "\n",
       "    .dataframe tbody tr th {\n",
       "        vertical-align: top;\n",
       "    }\n",
       "\n",
       "    .dataframe thead th {\n",
       "        text-align: right;\n",
       "    }\n",
       "</style>\n",
       "<table border=\"1\" class=\"dataframe\">\n",
       "  <thead>\n",
       "    <tr style=\"text-align: right;\">\n",
       "      <th></th>\n",
       "      <th>size</th>\n",
       "      <th>recursive</th>\n",
       "      <th>loop</th>\n",
       "      <th>difference</th>\n",
       "    </tr>\n",
       "  </thead>\n",
       "  <tbody>\n",
       "    <tr>\n",
       "      <th>0</th>\n",
       "      <td>137.0</td>\n",
       "      <td>0.000401</td>\n",
       "      <td>0.000061</td>\n",
       "      <td>0.000340</td>\n",
       "    </tr>\n",
       "    <tr>\n",
       "      <th>1</th>\n",
       "      <td>172.0</td>\n",
       "      <td>0.000451</td>\n",
       "      <td>0.000066</td>\n",
       "      <td>0.000385</td>\n",
       "    </tr>\n",
       "    <tr>\n",
       "      <th>2</th>\n",
       "      <td>233.0</td>\n",
       "      <td>0.000646</td>\n",
       "      <td>0.000087</td>\n",
       "      <td>0.000559</td>\n",
       "    </tr>\n",
       "    <tr>\n",
       "      <th>3</th>\n",
       "      <td>244.0</td>\n",
       "      <td>0.000623</td>\n",
       "      <td>0.000092</td>\n",
       "      <td>0.000531</td>\n",
       "    </tr>\n",
       "    <tr>\n",
       "      <th>4</th>\n",
       "      <td>303.0</td>\n",
       "      <td>0.000775</td>\n",
       "      <td>0.000127</td>\n",
       "      <td>0.000648</td>\n",
       "    </tr>\n",
       "    <tr>\n",
       "      <th>5</th>\n",
       "      <td>335.0</td>\n",
       "      <td>0.000905</td>\n",
       "      <td>0.000144</td>\n",
       "      <td>0.000762</td>\n",
       "    </tr>\n",
       "    <tr>\n",
       "      <th>6</th>\n",
       "      <td>355.0</td>\n",
       "      <td>0.000952</td>\n",
       "      <td>0.000149</td>\n",
       "      <td>0.000803</td>\n",
       "    </tr>\n",
       "    <tr>\n",
       "      <th>7</th>\n",
       "      <td>435.0</td>\n",
       "      <td>0.001230</td>\n",
       "      <td>0.000211</td>\n",
       "      <td>0.001019</td>\n",
       "    </tr>\n",
       "    <tr>\n",
       "      <th>8</th>\n",
       "      <td>493.0</td>\n",
       "      <td>0.001423</td>\n",
       "      <td>0.000251</td>\n",
       "      <td>0.001173</td>\n",
       "    </tr>\n",
       "    <tr>\n",
       "      <th>9</th>\n",
       "      <td>496.0</td>\n",
       "      <td>0.001058</td>\n",
       "      <td>0.000250</td>\n",
       "      <td>0.000807</td>\n",
       "    </tr>\n",
       "  </tbody>\n",
       "</table>\n",
       "</div>"
      ],
      "text/plain": [
       "    size  recursive      loop  difference\n",
       "0  137.0   0.000401  0.000061    0.000340\n",
       "1  172.0   0.000451  0.000066    0.000385\n",
       "2  233.0   0.000646  0.000087    0.000559\n",
       "3  244.0   0.000623  0.000092    0.000531\n",
       "4  303.0   0.000775  0.000127    0.000648\n",
       "5  335.0   0.000905  0.000144    0.000762\n",
       "6  355.0   0.000952  0.000149    0.000803\n",
       "7  435.0   0.001230  0.000211    0.001019\n",
       "8  493.0   0.001423  0.000251    0.001173\n",
       "9  496.0   0.001058  0.000250    0.000807"
      ]
     },
     "execution_count": 22,
     "metadata": {},
     "output_type": "execute_result"
    }
   ],
   "source": [
    "data_df = pd.DataFrame([array,stored_times_recursive,stored_times_loop]).T\n",
    "data_df.columns = ['size', 'recursive', 'loop']\n",
    "data_df['difference'] = data_df.recursive -  data_df.loop\n",
    "data_df"
   ]
  },
  {
   "cell_type": "markdown",
   "metadata": {},
   "source": [
    "### Discussion:\n",
    "\n",
    "We summarize the data in pandas dataframe and calculate the difference between loop and recursive factorial functions."
   ]
  },
  {
   "cell_type": "markdown",
   "metadata": {},
   "source": [
    "\n",
    "\n",
    "### 5. \n",
    "Use python matplotlib or seaborn to generate a graph that has number on the horizontal axis and\n",
    "with execution time in milliseconds on the vertical axis. The plot should show execution times of\n",
    "recursion and the loop."
   ]
  },
  {
   "cell_type": "code",
   "execution_count": 27,
   "metadata": {},
   "outputs": [
    {
     "data": {
      "image/png": "[encoded data removed]",
      "text/plain": [
       "<Figure size 432x288 with 1 Axes>"
      ]
     },
     "metadata": {},
     "output_type": "display_data"
    }
   ],
   "source": [
    "fig = plt.figure()\n",
    "ax1 = fig.add_subplot(111)\n",
    "# ax2 = plt.twinx()\n",
    "sns.lineplot(data=data_df, x=\"size\", y=\"recursive\",label='recursive')\n",
    "# ax1.legend(loc='upper left')\n",
    "\n",
    "# sns.lineplot(data=data_df, x=\"size\", y=\"loop\",label='loop', ax=ax2)\n",
    "sns.lineplot(data=data_df, x=\"size\", y=\"loop\",label='loop' )\n",
    "\n",
    "ax2.grid(False)\n",
    "ax2.legend(loc='upper left' )\n",
    "plt.title('All',fontsize= 15);"
   ]
  },
  {
   "cell_type": "markdown",
   "metadata": {},
   "source": [
    "### Discussion: \n",
    "The graph shows that both approaches increase linearly as the ***n*** increases. This is within the expectation of big O for the factorial calculation using recursion or loops. Both algorithms have big O of O(n).\n",
    "\n",
    "However, the recursive code is slower overall. This reduced efficiency is coming from the overhead that is generated by creating a stack that stores the function call that is then executed and returns and completes the operations in reverse. The  lower efficieny of recursion is ralated to the space compexity.  This is also within the expectations "
   ]
  },
  {
   "attachments": {
    "image.png": {
     "image/png": "[encoded data removed]"
    }
   },
   "cell_type": "markdown",
   "metadata": {},
   "source": [
    "# Executive Summary\n",
    "\n",
    "In this exercise, we compared the execution time of the function that calculates the factorial by using 1) recursion algorithm, 2) loop approach. The methodology consist of the following steps:\n",
    "\n",
    "1. Get an array of size 10 of random integers between 100 and 500\n",
    "2. run factorial function and measure time using a loop\n",
    "3. run factorial function and measure time using a recursion \n",
    "4. Organize results in pandas data frame\n",
    "5. compare the execution time of two algorithms \n",
    "\n",
    " \n",
    "For this exercise, I measured the start and end time using time.clock() utility in python. The total time is calculated using the difference between end and start time (end-start). The array was sorted before running the factorial function. The plot that compares the execution time of the two methods is shown below: \n",
    "\n",
    "![image.png](attachment:image.png)\n",
    "\n",
    "When considering big O for recursive function using either method there are two dimensions to consider 1) time complexity 2) space complexity. The difference between the two is the following:\n",
    "\n",
    "\"Time complexity of an algorithm quantifies the amount of time taken by an algorithm to run as a function of the length of the input. Similarly, the space complexity of an algorithm quantifies the amount of space or memory taken by an algorithm to run as a function of the length of the input.\"<sup>1</sup>\n",
    "\n",
    "For factorial function time complexity big O is expressed as O(n) for both approaches indicating a linear relationship between time and n. Space complexity for recursive function is O(n) while space complexity for loop approach  is O(1).<sup>2</sup> \n",
    "\n",
    "Our approach only measures time complexity. The graph shows that both approaches increase linearly as the ***n*** increases. This is within the expectation of big O for the factorial calculation using recursion or loops. \n",
    "\n",
    "However, the recursive code is slower overall. This reduced efficiency is coming from the overhead that is generated by creating a stack that stores the function calls that is then executed and completes the operations in reverse. The  lower efficieny of recursion is ralated to the space compexity.  This is also within the expectations.<sup>3</sup> \n",
    "\n",
    "In conclusion both method have shown to exibit big O of O(n). However, recursion is slower due to storage overhead which relates to space compexity. \n",
    "\n",
    "1. https://www.hackerearth.com/practice/basic-programming/complexity-analysis/time-and-space-complexity/tutorial/#:~:text=Time%20complexity%20of%20an%20algorithm,the%20length%20of%20the%20input.&text=Let%20each%20operation%20takes%20time.\n",
    "\n",
    "2. https://stackoverflow.com/questions/21128308/is-the-big-o-notation-the-same-for-memoized-recursion-versus-iteration\n",
    "\n",
    "3. https://stackoverflow.com/questions/7703258/why-is-factorial-recursive-function-less-efficient-than-a-normal-factorial-funct#:~:text=In%20the%20recursive%20code%2C%20there,why%2C%20the%20performance%20is%20slow."
   ]
  }
 ],
 "metadata": {
  "kernelspec": {
   "display_name": "Python 3",
   "language": "python",
   "name": "python3"
  },
  "language_info": {
   "codemirror_mode": {
    "name": "ipython",
    "version": 3
   },
   "file_extension": ".py",
   "mimetype": "text/x-python",
   "name": "python",
   "nbconvert_exporter": "python",
   "pygments_lexer": "ipython3",
   "version": "3.7.7"
  }
 },
 "nbformat": 4,
 "nbformat_minor": 4
}
