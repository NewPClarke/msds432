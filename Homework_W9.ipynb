{
 "cells": [
  {
   "cell_type": "markdown",
   "metadata": {},
   "source": [
    "# Homework 9 - Enis Becirbegovic\n",
    "\n",
    "***Dynamic Programming***  "
   ]
  },
  {
   "cell_type": "markdown",
   "metadata": {},
   "source": [
    "https://www.geeksforgeeks.org/longest-common-subsequence-dp-4/"
   ]
  },
  {
   "cell_type": "code",
   "execution_count": 1,
   "metadata": {},
   "outputs": [],
   "source": [
    "import random\n",
    "import string\n",
    "from collections import deque\n",
    "import time\n",
    "import copy\n",
    "import numpy as np\n",
    "import pandas as pd\n",
    "import seaborn as sns\n",
    "import matplotlib.pyplot as plt\n",
    "sns.set()"
   ]
  },
  {
   "cell_type": "code",
   "execution_count": 14,
   "metadata": {},
   "outputs": [],
   "source": [
    "letters = string.ascii_lowercase\n",
    "r_string =  ''.join(random.choice(letters) for i in range(50)) \n",
    " \n",
    "def list_of_random_string(size,length ):\n",
    "    l = []\n",
    "    i = 1\n",
    "    while len(l) < size:\n",
    "        random.seed(i)\n",
    "        r_string = ''.join(random.choice(letters) for i in range(length))\n",
    "        if r_string not in l:    \n",
    "            l.append(r_string)\n",
    "        i +=1 \n",
    "    return l\n",
    "\n",
    " "
   ]
  },
  {
   "cell_type": "markdown",
   "metadata": {},
   "source": [
    "# Introduction\n",
    "\n",
    "For this assignment, we will explore the topic of dynamic programming and how it can be applied to estimate the longest common subsequence (LCS). \n",
    "\n",
    "For comparison purposes, we will compare the implementation of LCS algorithm using a dynamic-programming approach and compare this to the execution times by using Recursive/Naive Approach. Most of the code, with some minor changes, is sourced from ***geekforce.org***. \n",
    "\n",
    "https://www.geeksforgeeks.org/longest-common-subsequence-dp-4/"
   ]
  },
  {
   "cell_type": "markdown",
   "metadata": {},
   "source": [
    "#  Implementation of LCS using Recursive Appraoch"
   ]
  },
  {
   "cell_type": "code",
   "execution_count": null,
   "metadata": {},
   "outputs": [],
   "source": [
    "def lcs(X, Y, m, n): \n",
    "  \n",
    "    if m == 0 or n == 0: \n",
    "       return 0; \n",
    "    elif X[m-1] == Y[n-1]: \n",
    "       return 1 + lcs(X, Y, m-1, n-1)\n",
    "    else: \n",
    "       return max(lcs(X, Y, m, n-1), lcs(X, Y, m-1, n))\n",
    "\n",
    "str_len = range(1,11)  \n",
    "times = []\n",
    "for i in str_len:\n",
    "    \n",
    "    strings =  list_of_random_string(2,i)\n",
    "    X = strings[0]\n",
    "    Y = strings[1]\n",
    "    start = time.perf_counter()\n",
    "    print (\"Length of LCS is \", lcs(X , Y, len(X), len(Y)))\n",
    "    end = time.perf_counter()    \n",
    "    time_req = end-start\n",
    "    times.append(time_req)"
   ]
  },
  {
   "cell_type": "markdown",
   "metadata": {},
   "source": [
    "### Plot Time Compexity of the implementation using Recursive Approach"
   ]
  },
  {
   "cell_type": "code",
   "execution_count": 159,
   "metadata": {},
   "outputs": [
    {
     "data": {
      "text/plain": [
       "<matplotlib.axes._subplots.AxesSubplot at 0x1c18c7c8>"
      ]
     },
     "execution_count": 159,
     "metadata": {},
     "output_type": "execute_result"
    },
    {
     "data": {
      "image/png": "[encoded data removed]",
      "text/plain": [
       "<Figure size 432x288 with 1 Axes>"
      ]
     },
     "metadata": {},
     "output_type": "display_data"
    }
   ],
   "source": [
    "t = pd.DataFrame([str_len,times]).T\n",
    "t.columns  = ['len','times']\n",
    "fig = plt.figure()\n",
    "ax1 = fig.add_subplot(111)\n",
    "# ax2 = plt.twinx()\n",
    "sns.lineplot(data=t, x=\"len\", y=\"times\",label='Naive/Recursive approach') \n",
    "# sns.lineplot(data=results, x=\"position\", y=\"binary\",label='binary')"
   ]
  },
  {
   "cell_type": "markdown",
   "metadata": {},
   "source": [
    "## Implementation of LCS using Dynamic Programming"
   ]
  },
  {
   "cell_type": "code",
   "execution_count": 165,
   "metadata": {},
   "outputs": [],
   "source": [
    "# Dynamic Programming implementation of LCS problem \n",
    "\n",
    "def lcs(X , Y): \n",
    "    # find the length of the strings \n",
    "    m = len(X) \n",
    "    n = len(Y) \n",
    "\n",
    "    # declaring the array for storing the dp values \n",
    "    L = [[None]*(n+1) for i in range(m+1)] \n",
    "\n",
    "    \"\"\"Following steps build L[m+1][n+1] in bottom up fashion \n",
    "    Note: L[i][j] contains length of LCS of X[0..i-1] \n",
    "    and Y[0..j-1]\"\"\"\n",
    "    for i in range(m+1): \n",
    "        for j in range(n+1): \n",
    "            if i == 0 or j == 0 : \n",
    "                L[i][j] = 0\n",
    "            elif X[i-1] == Y[j-1]: \n",
    "                L[i][j] = L[i-1][j-1]+1\n",
    "            else: \n",
    "                L[i][j] = max(L[i-1][j] , L[i][j-1]) \n",
    "\n",
    "    # L[m][n] contains the length of LCS of X[0..n-1] & Y[0..m-1] \n",
    "    return L[m][n] \n"
   ]
  },
  {
   "cell_type": "markdown",
   "metadata": {},
   "source": [
    "### Plot Time Compexity of the implementation using Dynamic Programming"
   ]
  },
  {
   "cell_type": "code",
   "execution_count": 174,
   "metadata": {
    "scrolled": false
   },
   "outputs": [
    {
     "name": "stdout",
     "output_type": "stream",
     "text": [
      "Length of LCS is  0\n",
      "Length of LCS is  0\n",
      "Length of LCS is  0\n",
      "Length of LCS is  0\n",
      "Length of LCS is  1\n",
      "Length of LCS is  1\n",
      "Length of LCS is  1\n",
      "Length of LCS is  1\n",
      "Length of LCS is  1\n",
      "Length of LCS is  2\n"
     ]
    },
    {
     "data": {
      "image/png": "[encoded data removed]",
      "text/plain": [
       "<Figure size 432x288 with 1 Axes>"
      ]
     },
     "metadata": {},
     "output_type": "display_data"
    }
   ],
   "source": [
    "#### Create 1 to 11 random string of equal size and iterate over\n",
    "str_len = range(1,11) #Create the range 1-10. Each item in range represent the string lentgh to create randomly  \n",
    "times = []\n",
    "for i in str_len:\n",
    "    strings =  list_of_random_string(2,i)\n",
    "    X = strings[0]\n",
    "    Y = strings[1]\n",
    "    print (\"Length of LCS is \",lcs(X, Y) )\n",
    "    results = %timeit -n 100 -o -q lcs(X, Y)    \n",
    "    time_req = end-start\n",
    "    times.append(results.average)\n",
    "    \n",
    "t = pd.DataFrame([str_len,times]).T\n",
    "t.columns  = ['len','times']\n",
    "fig = plt.figure()\n",
    "ax1 = fig.add_subplot(111)\n",
    "\n",
    "sns.lineplot(data=t, x=\"len\", y=\"times\",label='Dynamic-Programming approach'); "
   ]
  },
  {
   "cell_type": "markdown",
   "metadata": {},
   "source": [
    "# Algorithm code breakdown\n",
    "\n",
    "#### 1. Starting table"
   ]
  },
  {
   "cell_type": "code",
   "execution_count": 155,
   "metadata": {},
   "outputs": [
    {
     "data": {
      "text/plain": [
       "[[None, None, None, None, None, None, None, None, None, None, None],\n",
       " [None, None, None, None, None, None, None, None, None, None, None],\n",
       " [None, None, None, None, None, None, None, None, None, None, None],\n",
       " [None, None, None, None, None, None, None, None, None, None, None],\n",
       " [None, None, None, None, None, None, None, None, None, None, None]]"
      ]
     },
     "execution_count": 155,
     "metadata": {},
     "output_type": "execute_result"
    }
   ],
   "source": [
    "X = ''.join(random.choice(letters) for i in range(4))\n",
    "Y = ''.join(random.choice(letters) for i in range(10))\n",
    "\n",
    "x = len(X) \n",
    "y = len(Y)\n",
    " \n",
    "L = [[None]*(y+1) for i in range(x+1)] \n",
    "L"
   ]
  },
  {
   "cell_type": "markdown",
   "metadata": {},
   "source": [
    "#### Example two string comparison with Substring printing and the final table printed\n",
    "\n",
    "Source:\n",
    "\n",
    "https://www.geeksforgeeks.org/longest-common-subsequence-dp-4/<br>\n",
    "https://www.geeksforgeeks.org/printing-longest-common-subsequence/"
   ]
  },
  {
   "cell_type": "code",
   "execution_count": 177,
   "metadata": {},
   "outputs": [],
   "source": [
    "def lcs_print(X , Y):\n",
    "    global sequence \n",
    "    \n",
    "    sequence = []\n",
    "    # find the length of the strings \n",
    "    x = len(X) \n",
    "    y = len(Y) \n",
    "\n",
    "    # declaring the array for storing the dp values \n",
    "    L = [[None]*(y+1) for i in range(x+1)] \n",
    "\n",
    "    \"\"\"Following steps build L[m+1][n+1] in bottom up fashion \n",
    "    Note: L[i][j] contains length of LCS of X[0..i-1] \n",
    "    and Y[0..j-1]\"\"\"\n",
    "   \n",
    "    for Xi in range(x+1): \n",
    "        for Yj in range(y+1): \n",
    "            if Xi == 0 or Yj == 0 :               \n",
    "                L[Xi][Yj] = 0\n",
    "            elif X[Xi-1] == Y[Yj-1]: \n",
    "                L[Xi][Yj] = L[Xi-1][Yj-1]+1\n",
    "                sequence.append( X[Xi-1])\n",
    "            else: \n",
    "                L[Xi][Yj] = max(L[Xi-1][Yj] , L[Xi][Yj-1]) \n",
    "            \n",
    "    # L[m][n] contains the length of LCS of X[0..n-1] & Y[0..m-1] \n",
    " \n",
    "\n",
    "    # Following code is used to print LCS \n",
    "    index = L[x][y] \n",
    "  \n",
    "    # Create a character array to store the lcs string \n",
    "    lcs = [\"\"] * (index+1) \n",
    "    lcs[index] = \"\" \n",
    "  \n",
    "    # Start from the right-most-bottom-most corner and \n",
    "    # one by one store characters in lcs[] \n",
    "    i = x \n",
    "    j = y \n",
    "    while i > 0 and j > 0: \n",
    "  \n",
    "        # If current character in X[] and Y are same, then \n",
    "        # current character is part of LCS \n",
    "        if X[i-1] == Y[j-1]: \n",
    "            lcs[index-1] = X[i-1] \n",
    "            i-=1\n",
    "            j-=1\n",
    "            index-=1\n",
    "  \n",
    "        # If not same, then find the larger of two and \n",
    "        # go in the direction of larger value \n",
    "        elif L[i-1][j] > L[i][j-1]: \n",
    "            i-=1\n",
    "        else: \n",
    "            j-=1\n",
    "  \n",
    "    print (\"LCS of \" + X + \" and \" + Y + \" is \" + \"\".join(lcs))\n",
    "    return L  "
   ]
  },
  {
   "cell_type": "code",
   "execution_count": 178,
   "metadata": {},
   "outputs": [
    {
     "name": "stdout",
     "output_type": "stream",
     "text": [
      "LCS of BCDAGH and AEDFHR is AH\n"
     ]
    },
    {
     "data": {
      "text/plain": [
       "[[0, 0, 0, 0, 0, 0, 0],\n",
       " [0, 0, 0, 0, 0, 0, 0],\n",
       " [0, 0, 0, 0, 0, 0, 0],\n",
       " [0, 0, 0, 1, 1, 1, 1],\n",
       " [0, 1, 1, 1, 1, 1, 1],\n",
       " [0, 1, 1, 1, 1, 1, 1],\n",
       " [0, 1, 1, 1, 1, 2, 2]]"
      ]
     },
     "execution_count": 178,
     "metadata": {},
     "output_type": "execute_result"
    }
   ],
   "source": [
    "X=\"BCDAGH\"\n",
    "Y=\"AEDFHR\"\n",
    "lcs_print(X,Y)"
   ]
  },
  {
   "attachments": {
    "image.png": {
     "image/png": "[encoded data removed]"
    }
   },
   "cell_type": "markdown",
   "metadata": {},
   "source": [
    "### Discussion\n",
    "\n",
    "In this exercise, we used  Dynamic-Programming to solve for ***longest Common Subsequence*** or (LCS). \n",
    "\n",
    "##### Algorithm Logic \n",
    "\n",
    "Dynamic programming for the Longest Common Subsequence start by creating an empty tabular data structures or Matrix of the size len(X)+1 by len(Y)+1. This is the determined by the following code: \n",
    "```python\n",
    "    x = len(X) \n",
    "    y = len(Y)\n",
    "    L = [[None]*(y+1) for i in range(x+1)] \n",
    "```\n",
    "For example for X string size of 4 and Y string size of 10 our starting matrix looks as follows:\n",
    "```python\n",
    "    [[None, None, None, None, None, None, None, None, None, None, None], \n",
    "     [None, None, None, None, None, None, None, None, None, None, None], \n",
    "     [None, None, None, None, None, None, None, None, None, None, None], \n",
    "     [None, None, None, None, None, None, None, None, None, None, None], \n",
    "     [None, None, None, None, None, None, None, None, None, None, None]]\n",
    "```\n",
    " \n",
    "Note that the matrix is 5x11 where one row and column are added for indexing of the array later in the code to prevent errors when indices-1 are called. The following part of Dynamic Programming implementation iterates over this matrix from left to right and by row. This loop is expressed as follows: \n",
    "```python\n",
    "    for Xi in range(x+1): \n",
    "        for Yj in range(y+1): \n",
    "            pass\n",
    "```   \n",
    "    \n",
    "The algorithm loops left to right one row at the time. The table is filled using the following logic:   \n",
    "```python\n",
    "            if Xi == 0 or Yj == 0 :               \n",
    "                    L[Xi][Yj] = 0\n",
    "            elif X[Xi-1] == Y[Yj-1]: \n",
    "                L[Xi][Yj] = L[Xi-1][Yj-1]+1\n",
    "            else: \n",
    "                L[Xi][Yj] = max(L[Xi-1][Yj] , L[Xi][Yj-1])\n",
    "``` \n",
    "The first part of the if statement fills zero for the first row and first columns(indices at 0). The first row and columns are placeholders.\n",
    "\n",
    "The second part of the if statement checks whether the 2nd string letter (Yj) matches the 1st string letter (Xj). If this is true then 1 is added to the value indexed at [Xi-1,Yi-1]. For example:\n",
    "\n",
    "![image.png](attachment:image.png)\n"
   ]
  },
  {
   "attachments": {
    "image.png": {
     "image/png": "[encoded data removed]"
    }
   },
   "cell_type": "markdown",
   "metadata": {},
   "source": [
    "In this Matrix, the yellow value is determined by 0 (circled in blue) + 1. \n",
    "\n",
    "If this is not true, then the logic falls through to the else statement where the value of L[Xi][Yi] is determined by the max statement of the value to the left and to the top of the current cell. For example:\n",
    "\n",
    "![image.png](attachment:image.png)\n",
    "\n",
    "In this instance, the last cell in the table (yellow) is determined by the max(2,1). This is true for all other cells unless there is a match of the letters.\n",
    "\n",
    "finally, the last statement returns the bottom left number in this table which represents the length of the longest common subsequence. \n",
    "```python\n",
    "    return L[m][n]\n",
    "```\n",
    "\n",
    "##### Why is this dynamic programming problem?\n",
    "\n",
    "\n",
    "The problem is solved using the tabular grid. Each cell in the problem represents a solution to a subproblem. In other words, we compare the cell by cell by row. This allows to broke big problem into a bunch of smaller ones. Finally, we are trying to optimize each cell in our iterations. All these are the characteristics of dynamic programming.\n"
   ]
  },
  {
   "attachments": {
    "image.png": {
     "image/png": "[encoded data removed]"
    }
   },
   "cell_type": "markdown",
   "metadata": {},
   "source": [
    "## Time complexity\n",
    "\n",
    "***Naive/Recursive Approach***\n",
    "\n",
    "The naïve approach recursively iterates of every possibly substring until it finds the longest sequence. This approach has time complexity or Big O of O(2^n) which is basically the exponential function.  The graph above shows the time complexity for the naive or recursive approach:\n",
    "\n",
    "![image.png](attachment:image.png)\n",
    "\n"
   ]
  },
  {
   "attachments": {
    "image.png": {
     "image/png": "[encoded data removed]"
    }
   },
   "cell_type": "markdown",
   "metadata": {},
   "source": [
    "***Dynamic-programming***\n",
    "\n",
    "With dynamic programming we achieve quasi-quadratic time complexity of O(N*M). N and M represent the length of the string that we are trying to compare. N and M do not have to be equal, but when they are equal then time complexity becomes O(n^2) which basically indicate the quadratic form. This is significaly faster then the naïve approach:\n",
    "\n",
    "![image.png](attachment:image.png)"
   ]
  },
  {
   "cell_type": "markdown",
   "metadata": {},
   "source": [
    "# Executive Summary\n",
    "\n",
    "dynamic-programming approach. We have shown that the DP approach to the problem is significantly faster than a Naive/Recursive approach. The big of O for DP implementation is O(N x M) where N and M are the lengths the string passed to the algorithms. This is significantly faster than the Naive approach that iterates over all possible combinations with big O of O(2^n). The discussion and graphs above illustrate these points.\n",
    "\n",
    "Dynamic-programming is a very powerful algorithm in solving certain problems where we do not have a specific algorithm for that purpose. However, DP cannot be used to solve any problem. For one we need to optimize for discrete quantities. For example, we cannot optimize fractional items. The second scenario where Dynamic-Programming will also not work when the subproblems that we are trying to solve are dependent on each other. The travel problem in Chapter 10 highlights this issue. "
   ]
  }
 ],
 "metadata": {
  "kernelspec": {
   "display_name": "Python 3",
   "language": "python",
   "name": "python3"
  },
  "language_info": {
   "codemirror_mode": {
    "name": "ipython",
    "version": 3
   },
   "file_extension": ".py",
   "mimetype": "text/x-python",
   "name": "python",
   "nbconvert_exporter": "python",
   "pygments_lexer": "ipython3",
   "version": "3.7.7"
  }
 },
 "nbformat": 4,
 "nbformat_minor": 4
}
