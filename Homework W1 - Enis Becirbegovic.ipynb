{
 "cells": [
  {
   "cell_type": "markdown",
   "metadata": {},
   "source": [
    "# Executive Summary\n",
    "\n",
    "In this exercise we compared the execution time of two search algorithms: 1) binary search 2) linear search. Because binary search requires data to be sorted we compared the binary search with and without the sorting algorithms. We used arrays of integers (size of 512, 1024, 2048, 4096, 8762) as sorting objects. The results and the analysis show that the binary search with sorting is 9x faster then linear, and about 75x faster if the data is already sorted (see ***Cell 68*** for these conclusions) Also ***Cells 64,65, and 66*** compare the performance graphically using seaborn plots.  \n",
    "\n",
    "The methodology for this exercise used the arrays of integers as sorting objects. I used IPython **timeit** magic command for each test. Becuase the execution time can be affected by various factors each comparison was repeated at least 100x and the average of the execution time was used as a benchmark. \n",
    "\n",
    "Linear Search has a big O of O(n). The expectation is that when represented graphically the execution time increase in a linear fashion. This has been observed in ***Cell 64*** that shows the execution time on the Y-axis and the array size on X-axis for linear search. Binary Search has BigO of O(log n). Log N has a non-linear concave shape; it increases but not in a linear fashion and starts flatting out as it approaches large N. In the graph in ***Cell 65*** we can't see the full bending of the log function. We need a much larger N for that. The largest array in our experiment is 8762. However, we can observe a non-linear shape which is consistent with Big O notation.\n",
    "\n",
    "Finally, in ***Cell 66*** we can observe the execution time for all algorithms. Because binary search (with and without sort) has significantly different execution times this graph has two axes. left Y-axis is time in ms for Linear Search while the right Y-axis is scaled based on the binary and binary+sort algorithms. From this graph, we can observe that even with sort binary search is significantly faster (~9x) than the linear search, while binary search has basically flat line when compared to linear search execution times. In this exercise, binary search alone is about 75x faster than linear search. One thing to note is that binary search with sort has an almost identical shape as linear search on this graph. I used the **mergesort** algorithm for sorting which has a big O of ***O(n x log n)***. This function has an interesting shape. At low Ns, log dominates but as N increases the function gets linear shape. Therefore when binary and sort (using mergesort) is used log shape is dominated by Linear Function and the combination of the two is becomes linear. Nonetheless, even so, binary+sort is still significantly faster than linear search alone.\n"
   ]
  },
  {
   "cell_type": "code",
   "execution_count": 1,
   "metadata": {},
   "outputs": [],
   "source": [
    "import numpy as np\n",
    " \n",
    "def create_random_array(low,high,size,seed):    \n",
    "    np.random.seed(seed)\n",
    "    integer_array = np.random.randint(low,high,size)   \n",
    "    return integer_array  #  np.sort(integer_array, kind='quicksort' )\n",
    "\n",
    "class BinarySearch():\n",
    "    \n",
    "  def search_iterative(self, list, item):\n",
    "    # low and high keep track of which part of the list you'll search in.\n",
    "    low = 0\n",
    "    high = len(list) - 1\n",
    "\n",
    "    # While you haven't narrowed it down to one element ...\n",
    "    while low <= high:\n",
    "      # ... check the middle element\n",
    "      mid = (low + high) // 2\n",
    "      guess = list[mid]\n",
    "      # Found the item.\n",
    "      if guess == item:\n",
    "        return mid\n",
    "      # The guess was too high.\n",
    "      if guess > item:\n",
    "        high = mid - 1\n",
    "      # The guess was too low.\n",
    "      else:\n",
    "        low = mid + 1\n",
    "\n",
    "    # Item doesn't exist\n",
    "    return None\n",
    "\n",
    "  def search_recursive(self, list, low, high, item):\n",
    "    # Check base case \n",
    "    if high >= low: \n",
    "  \n",
    "        mid = (high + low) // 2\n",
    "        guess = list[mid]\n",
    "  \n",
    "        # If element is present at the middle itself \n",
    "        if guess == item:\n",
    "            return mid \n",
    "  \n",
    "        # If element is smaller than mid, then it can only \n",
    "        # be present in left subarray \n",
    "        elif guess > item: \n",
    "            return self.search_recursive(list, low, mid - 1, item) \n",
    "  \n",
    "        # Else the element can only be present in right subarray \n",
    "        else: \n",
    "            return self.search_recursive(list, mid + 1, high, item) \n",
    "  \n",
    "    else: \n",
    "        # Element is not present in the array \n",
    "        return None\n",
    "    \n",
    "    \n",
    "\n",
    "def linear_search(mylist, item):\n",
    "    i = 0\n",
    "    while i < len(mylist):\n",
    "        if mylist[i] == item:\n",
    "            return i\n",
    "        else:\n",
    "            i = i + 1\n",
    "      \n",
    "    return None"
   ]
  },
  {
   "cell_type": "markdown",
   "metadata": {
    "scrolled": false
   },
   "source": [
    "# 1.\n",
    "\n",
    "To begin, let's generate some random data to work with. Ensure that a common random number seed is used to generate each of the arrays. We will make five arrays, each of length 512, 1024, 2048, 4096, and 8192 containing randomly generated uniformly distributed integers from 1 to 10000.  You may use the numpy package for this.  \n",
    "\n",
    "### Lets create arrays"
   ]
  },
  {
   "cell_type": "code",
   "execution_count": 2,
   "metadata": {},
   "outputs": [],
   "source": [
    "    \n",
    "array_512 = create_random_array(low=1,high=10000+1,size=512, seed=1)\n",
    "array_1024 = create_random_array(low=1,high=10000+1,size=1024, seed=1)\n",
    "array_2048 = create_random_array(low=1,high=10000+1,size=2048, seed=1)\n",
    "array_4096 = create_random_array(low=1,high=10000+1,size=4096, seed=1)\n",
    "array_8192 = create_random_array(low=1,high=10000+1,size=8192, seed=1)\n",
    "\n",
    "arrays = [array_512,array_1024, array_2048,array_4096,array_8192 ]"
   ]
  },
  {
   "cell_type": "markdown",
   "metadata": {},
   "source": [
    "# Execution time for sort array  "
   ]
  },
  {
   "cell_type": "code",
   "execution_count": 3,
   "metadata": {},
   "outputs": [
    {
     "name": "stdout",
     "output_type": "stream",
     "text": [
      "20.2 µs ± 1.25 µs per loop (mean ± std. dev. of 7 runs, 1000 loops each)\n",
      "38.9 µs ± 1.13 µs per loop (mean ± std. dev. of 7 runs, 1000 loops each)\n",
      "80.2 µs ± 1.2 µs per loop (mean ± std. dev. of 7 runs, 1000 loops each)\n",
      "175 µs ± 5.31 µs per loop (mean ± std. dev. of 7 runs, 1000 loops each)\n",
      "377 µs ± 14.5 µs per loop (mean ± std. dev. of 7 runs, 1000 loops each)\n"
     ]
    }
   ],
   "source": [
    "results_sort = []\n",
    "for array  in arrays: \n",
    "    results = %timeit -n 1000 -o  np.sort(array,kind='mergesort')\n",
    "    results_sort.append(results.average)"
   ]
  },
  {
   "cell_type": "code",
   "execution_count": 4,
   "metadata": {},
   "outputs": [
    {
     "data": {
      "text/plain": [
       "[2.0215531857138966e-05,\n",
       " 3.8872089857144535e-05,\n",
       " 8.020535114285922e-05,\n",
       " 0.00017489565557142684,\n",
       " 0.00037704944371428647]"
      ]
     },
     "execution_count": 4,
     "metadata": {},
     "output_type": "execute_result"
    }
   ],
   "source": [
    "results_sort"
   ]
  },
  {
   "cell_type": "markdown",
   "metadata": {},
   "source": [
    "# 2.\n",
    "### Before we run a binary search test, actually sort the data\n",
    "\n",
    "Sort each of the random number arrays from smallest to largest.  You may use any algorithm to sort the data."
   ]
  },
  {
   "cell_type": "code",
   "execution_count": 5,
   "metadata": {},
   "outputs": [],
   "source": [
    "array_512  = np.sort(array_512,kind='mergesort')\n",
    "array_1024 = np.sort(array_1024,kind='mergesort')\n",
    "array_2048 = np.sort(array_2048,kind='mergesort')\n",
    "array_4096 = np.sort(array_4096,kind='mergesort')\n",
    "array_8192 = np.sort(array_8192,kind='mergesort')\n",
    "\n",
    "\n",
    "arrays = [array_512,array_1024, array_2048,array_4096,array_8192 ]"
   ]
  },
  {
   "cell_type": "markdown",
   "metadata": {},
   "source": [
    "# 3. \n",
    "Execute the base search algorithm (binary search) (from the text and github code) for each of array, noting the execution time for each array.  With each execution use the maximum value of the random number array as the number for which you are searching."
   ]
  },
  {
   "cell_type": "code",
   "execution_count": 39,
   "metadata": {},
   "outputs": [
    {
     "name": "stdout",
     "output_type": "stream",
     "text": [
      "12.7 µs ± 720 ns per loop (mean ± std. dev. of 7 runs, 10000 loops each)\n",
      "13.7 µs ± 324 ns per loop (mean ± std. dev. of 7 runs, 10000 loops each)\n",
      "15.3 µs ± 87.6 ns per loop (mean ± std. dev. of 7 runs, 10000 loops each)\n",
      "18.7 µs ± 167 ns per loop (mean ± std. dev. of 7 runs, 10000 loops each)\n",
      "24 µs ± 141 ns per loop (mean ± std. dev. of 7 runs, 10000 loops each)\n"
     ]
    }
   ],
   "source": [
    "bs = BinarySearch()  \n",
    "\n",
    "results_binary = []\n",
    "for array  in arrays: \n",
    "    results = %timeit -n 10000 -o   bs.search_iterative(array, array.max())\n",
    "    results_binary.append(results.average)"
   ]
  },
  {
   "cell_type": "code",
   "execution_count": 28,
   "metadata": {},
   "outputs": [
    {
     "data": {
      "text/plain": [
       "[1.3407402028574973e-05,\n",
       " 1.7549098028575824e-05,\n",
       " 1.7221118171430913e-05,\n",
       " 2.1861977685713492e-05,\n",
       " 2.7241628457142855e-05]"
      ]
     },
     "execution_count": 28,
     "metadata": {},
     "output_type": "execute_result"
    }
   ],
   "source": [
    "results_binary"
   ]
  },
  {
   "cell_type": "markdown",
   "metadata": {},
   "source": [
    "# 4.\n",
    "\n",
    "Now we will compare this to a linear search.  Use python (perhaps with the Pandas package) to prepare a five-column table containing the following columns with all times in milliseconds:\n",
    "\n",
    "* length of the random number array\n",
    "* sort time\n",
    "* linear search time for the sorted array\n",
    "* binary search time for the sorted array\n",
    "* binary search plus sort times"
   ]
  },
  {
   "cell_type": "code",
   "execution_count": 9,
   "metadata": {},
   "outputs": [
    {
     "name": "stdout",
     "output_type": "stream",
     "text": [
      "232 µs ± 15.1 µs per loop (mean ± std. dev. of 7 runs, 1000 loops each)\n",
      "462 µs ± 19.2 µs per loop (mean ± std. dev. of 7 runs, 1000 loops each)\n",
      "980 µs ± 52.8 µs per loop (mean ± std. dev. of 7 runs, 1000 loops each)\n",
      "1.92 ms ± 76.4 µs per loop (mean ± std. dev. of 7 runs, 1000 loops each)\n",
      "3.7 ms ± 225 µs per loop (mean ± std. dev. of 7 runs, 1000 loops each)\n"
     ]
    }
   ],
   "source": [
    "results_linear = []\n",
    "for array  in arrays: \n",
    "    results = %timeit -n 1000 -o  linear_search(array, array.max())\n",
    "    results_linear.append(results.average)"
   ]
  },
  {
   "cell_type": "code",
   "execution_count": 10,
   "metadata": {},
   "outputs": [
    {
     "data": {
      "text/plain": [
       "[0.00023174062757139576,\n",
       " 0.000461839602999979,\n",
       " 0.0009804212912856655,\n",
       " 0.0019159001468571463,\n",
       " 0.003700574957714285]"
      ]
     },
     "execution_count": 10,
     "metadata": {},
     "output_type": "execute_result"
    }
   ],
   "source": [
    "results_linear"
   ]
  },
  {
   "cell_type": "markdown",
   "metadata": {},
   "source": [
    "# 5.\n",
    "\n",
    "\n",
    "Use python matplotlib or Seaborn to generate a plot with the size of the random number array on the horizontal axis and with execution time in milliseconds on the vertical axis. The plot should show execution time against array size for linear and binary search algorithms alone.  Discuss the results.\n"
   ]
  },
  {
   "cell_type": "code",
   "execution_count": 11,
   "metadata": {},
   "outputs": [],
   "source": [
    "import pandas as pd \n",
    "import seaborn as sns\n",
    "import matplotlib.pyplot as plt\n",
    "sns.set()"
   ]
  },
  {
   "cell_type": "code",
   "execution_count": 40,
   "metadata": {},
   "outputs": [
    {
     "data": {
      "text/html": [
       "<div>\n",
       "<style scoped>\n",
       "    .dataframe tbody tr th:only-of-type {\n",
       "        vertical-align: middle;\n",
       "    }\n",
       "\n",
       "    .dataframe tbody tr th {\n",
       "        vertical-align: top;\n",
       "    }\n",
       "\n",
       "    .dataframe thead th {\n",
       "        text-align: right;\n",
       "    }\n",
       "</style>\n",
       "<table border=\"1\" class=\"dataframe\">\n",
       "  <thead>\n",
       "    <tr style=\"text-align: right;\">\n",
       "      <th></th>\n",
       "      <th>array_length</th>\n",
       "      <th>sort_time</th>\n",
       "      <th>linear</th>\n",
       "      <th>binary</th>\n",
       "      <th>binary+sort</th>\n",
       "    </tr>\n",
       "  </thead>\n",
       "  <tbody>\n",
       "    <tr>\n",
       "      <th>0</th>\n",
       "      <td>512.0</td>\n",
       "      <td>0.000020</td>\n",
       "      <td>0.000232</td>\n",
       "      <td>0.000013</td>\n",
       "      <td>0.000033</td>\n",
       "    </tr>\n",
       "    <tr>\n",
       "      <th>1</th>\n",
       "      <td>1024.0</td>\n",
       "      <td>0.000039</td>\n",
       "      <td>0.000462</td>\n",
       "      <td>0.000014</td>\n",
       "      <td>0.000053</td>\n",
       "    </tr>\n",
       "    <tr>\n",
       "      <th>2</th>\n",
       "      <td>2048.0</td>\n",
       "      <td>0.000080</td>\n",
       "      <td>0.000980</td>\n",
       "      <td>0.000015</td>\n",
       "      <td>0.000096</td>\n",
       "    </tr>\n",
       "    <tr>\n",
       "      <th>3</th>\n",
       "      <td>4096.0</td>\n",
       "      <td>0.000175</td>\n",
       "      <td>0.001916</td>\n",
       "      <td>0.000019</td>\n",
       "      <td>0.000194</td>\n",
       "    </tr>\n",
       "    <tr>\n",
       "      <th>4</th>\n",
       "      <td>8192.0</td>\n",
       "      <td>0.000377</td>\n",
       "      <td>0.003701</td>\n",
       "      <td>0.000024</td>\n",
       "      <td>0.000401</td>\n",
       "    </tr>\n",
       "  </tbody>\n",
       "</table>\n",
       "</div>"
      ],
      "text/plain": [
       "   array_length  sort_time    linear    binary  binary+sort\n",
       "0         512.0   0.000020  0.000232  0.000013     0.000033\n",
       "1        1024.0   0.000039  0.000462  0.000014     0.000053\n",
       "2        2048.0   0.000080  0.000980  0.000015     0.000096\n",
       "3        4096.0   0.000175  0.001916  0.000019     0.000194\n",
       "4        8192.0   0.000377  0.003701  0.000024     0.000401"
      ]
     },
     "execution_count": 40,
     "metadata": {},
     "output_type": "execute_result"
    }
   ],
   "source": [
    "data = [\n",
    "    [512,1024,2048,4096,8192],\n",
    "    results_sort,\n",
    "    results_linear,\n",
    "    results_binary,\n",
    " \n",
    "    np.array(results_sort) + np.array(results_binary)\n",
    "    \n",
    "] \n",
    "data_df = pd.DataFrame(data).T\n",
    "data_df.columns =['array_length','sort_time', 'linear','binary','binary+sort']\n",
    "data_df"
   ]
  },
  {
   "cell_type": "markdown",
   "metadata": {},
   "source": [
    "# Plot data\n",
    "\n",
    "### Cells 64 and  Cells 65"
   ]
  },
  {
   "cell_type": "code",
   "execution_count": 64,
   "metadata": {},
   "outputs": [
    {
     "data": {
      "image/png": "[encoded data removed]",
      "text/plain": [
       "<Figure size 432x288 with 1 Axes>"
      ]
     },
     "metadata": {},
     "output_type": "display_data"
    }
   ],
   "source": [
    " \n",
    "sns.lineplot(data=data_df, x=\"array_length\", y=\"linear\", label = 'Linear Search')\n",
    "plt.legend()\n",
    "plt.title('Linear Search',fontsize= 15);"
   ]
  },
  {
   "cell_type": "code",
   "execution_count": 65,
   "metadata": {
    "scrolled": true
   },
   "outputs": [
    {
     "data": {
      "image/png": "[encoded data removed]",
      "text/plain": [
       "<Figure size 432x288 with 1 Axes>"
      ]
     },
     "metadata": {},
     "output_type": "display_data"
    }
   ],
   "source": [
    "sns.lineplot(data=data_df, x=\"array_length\",color='green', y=\"binary\",label='Binary Search' )\n",
    "plt.legend()\n",
    "plt.title('Binary Search',fontsize= 15);"
   ]
  },
  {
   "cell_type": "markdown",
   "metadata": {},
   "source": [
    "# Discussion\n",
    "\n",
    "Linear Search has a big O of O(n). The expectation is that when represented graphically the execution time increase in a linear fashion. This has been observed in ***Cell 64*** that shows the execution time on the Y-axis and the array size on X-axis for linear search. Binary Search has BigO of O(log n). Log N has a non-linear concave shape; it increases but not in a linear fashion and starts flatting out as it approaches large N. In the graph in ***Cell 65*** we can't see the full bending of the log function. We need much larger N for that. The  largest array in our  size is 8762. However, we can observe a non-linear shape which is consistent with Big 0 notation.\n"
   ]
  },
  {
   "cell_type": "markdown",
   "metadata": {},
   "source": [
    "# 6.\n",
    "Use Python matplotlib or Seaborn to generate a measure of the size of the data set on the horizontal axis and with execution time in milliseconds on the vertical axis. The plot should show execution time against array size for each form of the algorithm being tested (last four columns of the table).  Discuss the results."
   ]
  },
  {
   "cell_type": "code",
   "execution_count": 67,
   "metadata": {},
   "outputs": [
    {
     "data": {
      "image/png": "[encoded data removed]",
      "text/plain": [
       "<Figure size 432x288 with 2 Axes>"
      ]
     },
     "metadata": {},
     "output_type": "display_data"
    }
   ],
   "source": [
    "fig = plt.figure()\n",
    "ax1 = fig.add_subplot(111)\n",
    "\n",
    "sns.lineplot(data=data_df, x=\"array_length\", y=\"linear\",label='Linear', ax=ax1)\n",
    "ax1.legend(loc='upper left')\n",
    "\n",
    "\n",
    "ax2 = plt.twinx()\n",
    "sns.lineplot(data=data_df, x=\"array_length\",color='red', y=\"binary+sort\",label='binary+sort', ax=ax2)\n",
    "sns.lineplot(data=data_df, x=\"array_length\",color='green', y=\"binary\",label='binary', ax=ax2)\n",
    "sns.lineplot(data=data_df, x=\"array_length\",color='black', y=\"sort_time\",label='sort_time', ax=ax2)\n",
    "\n",
    "ax2.grid(False)\n",
    "ax2.legend(loc='lower right' )\n",
    "plt.title('All',fontsize= 15);"
   ]
  },
  {
   "cell_type": "markdown",
   "metadata": {},
   "source": [
    "# Some additional Analysis"
   ]
  },
  {
   "cell_type": "code",
   "execution_count": 68,
   "metadata": {},
   "outputs": [
    {
     "name": "stdout",
     "output_type": "stream",
     "text": [
      "9.042935236192713\n",
      "74.54890246304355\n"
     ]
    }
   ],
   "source": [
    "print(np.mean(data_df['linear']/data_df['binary+sort']))\n",
    "print(np.mean(data_df['linear']/data_df['binary']))"
   ]
  },
  {
   "cell_type": "markdown",
   "metadata": {},
   "source": [
    "# Merge sort Big O \n",
    "\n",
    "Merge sort is also almost linear as N increase.\n",
    "\n",
    "https://numpy.org/doc/stable/reference/generated/numpy.sort.html"
   ]
  },
  {
   "cell_type": "code",
   "execution_count": 69,
   "metadata": {},
   "outputs": [
    {
     "data": {
      "image/png": "[encoded data removed]",
      "text/plain": [
       "<Figure size 432x288 with 1 Axes>"
      ]
     },
     "metadata": {},
     "output_type": "display_data"
    }
   ],
   "source": [
    "merge_sort = []\n",
    "for i in range(1,10000000,100000):\n",
    "    n= 128*(2**i)\n",
    "#     print(n)\n",
    "    n=i\n",
    "    big_o = n*np.log2(n)\n",
    "    merge_sort.append(big_o)\n",
    "pd.Series(merge_sort).plot()\n",
    "plt.title(\"Merge Sort Big \");"
   ]
  },
  {
   "cell_type": "code",
   "execution_count": null,
   "metadata": {},
   "outputs": [],
   "source": []
  }
 ],
 "metadata": {
  "kernelspec": {
   "display_name": "Python 3",
   "language": "python",
   "name": "python3"
  },
  "language_info": {
   "codemirror_mode": {
    "name": "ipython",
    "version": 3
   },
   "file_extension": ".py",
   "mimetype": "text/x-python",
   "name": "python",
   "nbconvert_exporter": "python",
   "pygments_lexer": "ipython3",
   "version": "3.7.7"
  }
 },
 "nbformat": 4,
 "nbformat_minor": 4
}
