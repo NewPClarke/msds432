{
 "cells": [
  {
   "cell_type": "markdown",
   "metadata": {},
   "source": [
    "# Homework 6 - Enis Becirbegovic\n",
    "\n",
    "***Breadth-first search***  \n",
    "\n",
    "In this exercise, we will begin to explore the concept of hashing and how it related to various object\n",
    "containers with respect to computational complexity. We will begin with the base code for as described\n",
    "in Chapter 5 of Grokking Algorithms (Bhargava 2016)."
   ]
  },
  {
   "cell_type": "code",
   "execution_count": 137,
   "metadata": {},
   "outputs": [],
   "source": [
    "from names import Name_US\n",
    "import random\n",
    "import string\n",
    "from collections import deque\n",
    "import time\n",
    "import copy\n",
    "import numpy as np\n",
    "import pandas as pd\n",
    "import seaborn as sns\n",
    "import matplotlib.pyplot as plt\n",
    "sns.set()"
   ]
  },
  {
   "cell_type": "code",
   "execution_count": null,
   "metadata": {},
   "outputs": [],
   "source": [
    "letters = string.ascii_lowercase\n",
    "r_string =  ''.join(random.choice(letters) for i in range(50)) \n",
    " \n",
    "def list_of_random_string(size ):\n",
    "    l = []\n",
    "    i = 1\n",
    "    while len(l) < size:\n",
    "        random.seed(i)\n",
    "        r_string = ''.join(random.choice(letters) for i in range(10))\n",
    "        if r_string not in l:    \n",
    "            l.append(r_string)\n",
    "        i +=1 \n",
    "    return l\n"
   ]
  },
  {
   "cell_type": "code",
   "execution_count": null,
   "metadata": {},
   "outputs": [],
   "source": [
    "from collections import OrderedDict\n",
    "# https://stackoverflow.com/questions/18809482/python-nesting-dictionary-ordereddict-from-collections\n",
    "class MyOrderedDict(OrderedDict):\n",
    "    def __missing__(self, key):\n",
    "        val = self[key] = MyOrderedDict()\n",
    "        return val"
   ]
  },
  {
   "cell_type": "code",
   "execution_count": null,
   "metadata": {},
   "outputs": [],
   "source": [
    "def person_name_match(person,name):\n",
    "      return person == name"
   ]
  },
  {
   "cell_type": "code",
   "execution_count": null,
   "metadata": {},
   "outputs": [],
   "source": [
    "def search(search_name):\n",
    "    search_queue = deque()\n",
    "    search_queue += graph['me']\n",
    "#     print(\"Adding to search queue:\", search_queue)\n",
    "\n",
    "    # This array is how you keep track of which people you've searched before.\n",
    "    searched = []\n",
    "    \n",
    "    cnt=1\n",
    "    while search_queue:\n",
    "\n",
    "#         print(\"search_queue now looks like this:\", search_queue)\n",
    "\n",
    "        person = search_queue.popleft()\n",
    "        # Only search this person if you haven't already searched them.\n",
    "        if person not in searched:\n",
    "\n",
    "#             print(\"Searching\", person)\n",
    "\n",
    "            if person_name_match(person,search_name):\n",
    "#                 print(person + \" is a mango seller!\")\n",
    "                print(\"Loops need to find  person '{}':  \".format(search_name), cnt)\n",
    "                return True\n",
    "            else:\n",
    "                search_queue += graph[person]\n",
    "#                 print(\"  \", person, \"is NOT a mango seller!\\n   Adding to search queue:\", graph[person])\n",
    "                \n",
    "                # Marks this person as searched\n",
    "                searched.append(person)\n",
    "#                 print(\"Finished searching\", person, \". Adding to searched list:\", searched)\n",
    "        cnt +=1\n",
    "    return False\n",
    " "
   ]
  },
  {
   "cell_type": "markdown",
   "metadata": {},
   "source": [
    "# 1.\n",
    "Create a five level 'connections' graph (all unique, no duplicates).\n",
    "* The first level should have five people and each person in first level should have five connections (they can be exclusive to one person or shared with other members on the same level, but all five should be unique, no duplicates)\n",
    "* Each person in the second level should have five connections (they can be exclusive to one person or shared with other members on the same level, but all five should be unique, no duplicates)\n",
    "* Continue the same for third, fourth, and fifth levels\n",
    "* There should be no reverse connections (i.e. first level can connect to second level but second cannot have any reverse connection with the first, and so on for 3rd, 4th, and 5th levels)"
   ]
  },
  {
   "cell_type": "code",
   "execution_count": 204,
   "metadata": {},
   "outputs": [],
   "source": [
    "names = Name_US()\n",
    "unique_names_orig = set(names.first_names_female  + names.first_names_male + names.last_names )\n",
    "unique_string_orig =  set(list_of_random_string(40000))"
   ]
  },
  {
   "cell_type": "code",
   "execution_count": 238,
   "metadata": {},
   "outputs": [],
   "source": [
    "random.seed(1)\n",
    "unique_names = copy.deepcopy(unique_names_orig)\n",
    "unique_string = copy.deepcopy(unique_string_orig)\n",
    "\n",
    "graph =  MyOrderedDict()\n",
    "all_names = []"
   ]
  },
  {
   "cell_type": "code",
   "execution_count": 239,
   "metadata": {},
   "outputs": [],
   "source": [
    "#Create first level \n",
    "\n",
    "first_level =random.sample(unique_names,k=5)\n",
    "_ = [unique_names.remove(e) for e in element]\n",
    "    \n",
    "graph['me'] = first_level"
   ]
  },
  {
   "cell_type": "code",
   "execution_count": 240,
   "metadata": {},
   "outputs": [],
   "source": [
    "#Create second level \n",
    "\n",
    "for person_first_level in graph['me']:\n",
    "    second_level =random.sample(unique_names,k=5)\n",
    "    _ = [unique_names.remove(e) for e in second_level]\n",
    "    graph[person_first_level]=second_level"
   ]
  },
  {
   "cell_type": "code",
   "execution_count": 233,
   "metadata": {},
   "outputs": [],
   "source": [
    "#Create third level \n",
    "for person_first_level in graph['me']:    \n",
    "    for person_second_level in graph[person_first_level]:\n",
    "        third_level =random.sample(unique_names,k=5)\n",
    "        _ = [unique_names.remove(e) for e in third_level]\n",
    "        graph[person_second_level]=third_level\n",
    " "
   ]
  },
  {
   "cell_type": "code",
   "execution_count": 234,
   "metadata": {},
   "outputs": [],
   "source": [
    "#Create fourth level   \n",
    "for person_first_level in graph['me']:    \n",
    "    for person_second_level in graph[person_first_level]:\n",
    "         for person_third_level in graph[person_second_level]:\n",
    "            fourth_level =random.sample(unique_names,k=5)\n",
    "            _ = [unique_names.remove(e) for e in fourth_level]\n",
    "            graph[person_third_level]=fourth_level"
   ]
  },
  {
   "cell_type": "code",
   "execution_count": 235,
   "metadata": {},
   "outputs": [],
   "source": [
    "#Create fifth level \n",
    "\n",
    "for person_first_level in graph['me']:    \n",
    "    for person_second_level in graph[person_first_level]:\n",
    "         for person_third_level in graph[person_second_level]:\n",
    "                 for person_fourth_level in graph[person_third_level]:\n",
    "                    fifth_level =random.sample(unique_names,k=5)\n",
    "                    _ = [unique_names.remove(e) for e in fifth_level]\n",
    "                    graph[person_fourth_level]=fifth_level"
   ]
  },
  {
   "cell_type": "code",
   "execution_count": 236,
   "metadata": {},
   "outputs": [],
   "source": [
    "#Create sixth level \n",
    "\n",
    "\n",
    "for person_first_level in graph['me']:    \n",
    "    for person_second_level in graph[person_first_level]:\n",
    "         for person_third_level in graph[person_second_level]:\n",
    "                 for person_fourth_level in graph[person_third_level]:\n",
    "                         for person_fifth_level in graph[person_fourth_level]:\n",
    "                            sixth_level =random.sample(unique_string,k=5)\n",
    "                            _ = [unique_string.remove(e) for e in sixth_level]\n",
    "                            graph[person_fifth_level]=sixth_level\n",
    "                            "
   ]
  },
  {
   "cell_type": "code",
   "execution_count": 237,
   "metadata": {},
   "outputs": [
    {
     "name": "stdout",
     "output_type": "stream",
     "text": [
      "5\n",
      "25\n",
      "100\n",
      "500\n",
      "2500\n",
      "12500\n"
     ]
    }
   ],
   "source": [
    "   \n",
    "first_level = []\n",
    "second_level =[] \n",
    "third_level =[]\n",
    "fourth_level = []\n",
    "fifth_level = []\n",
    "sixth_level = []\n",
    "for person_first_level in graph['me']:    \n",
    "    first_level.append(person_first_level)\n",
    "    for person_second_level in graph[person_first_level]:\n",
    "        second_level.append(person_second_level)\n",
    "        for person_third_level in graph[person_second_level]:\n",
    "            third_level.append(person_third_level)\n",
    "            for person_fourth_level in graph[person_third_level]:\n",
    "                fourth_level.append(person_fourth_level)\n",
    "                for person_fifth_level in graph[person_fourth_level]:\n",
    "                    fifth_level.append(person_fifth_level)\n",
    "                    for person_sixth_level in graph[person_fifth_level]:\n",
    "                        sixth_level.append(person_sixth_level)\n",
    "print(len(first_level))\n",
    "print(len(second_level))\n",
    "print(len(third_level))\n",
    "print(len(fourth_level)) \n",
    "print(len(fifth_level))\n",
    "print(len(sixth_level))"
   ]
  },
  {
   "cell_type": "markdown",
   "metadata": {},
   "source": [
    "## Discussion\n",
    "\n",
    "The most challenging part of the exercise is to create names at each level to ensure we do not have duplicate names.   I complete this at each level by first create members of the first-level, second-level, and so on. After this was completed the persons at each level were stored in a list for use in the following section. "
   ]
  },
  {
   "cell_type": "markdown",
   "metadata": {},
   "source": [
    "# 2.\n",
    "\n",
    "Now search for three people on each level and capture the time for each search\n"
   ]
  },
  {
   "cell_type": "code",
   "execution_count": 227,
   "metadata": {},
   "outputs": [],
   "source": [
    "search_names_1st = first_level[-3:]\n",
    "search_names_2nd = second_level[-3:]\n",
    "search_names_3rd =  third_level [-3:]\n",
    "search_names_4th =  fourth_level [-3:]\n",
    "search_names_5th =  fifth_level [-3:]"
   ]
  },
  {
   "cell_type": "code",
   "execution_count": 228,
   "metadata": {},
   "outputs": [
    {
     "name": "stdout",
     "output_type": "stream",
     "text": [
      "Loops need to find  person 'Giovanna':   3\n",
      "Loops need to find  person 'Aryanna':   4\n",
      "Loops need to find  person 'Primus':   5\n",
      "Loops need to find  person 'Reynolds':   28\n",
      "Loops need to find  person 'Fernanda':   29\n",
      "Loops need to find  person 'Kizzy':   30\n",
      "Loops need to find  person 'Amon':   128\n",
      "Loops need to find  person 'Simona':   129\n",
      "Loops need to find  person 'Maverick':   130\n",
      "Loops need to find  person 'Arla':   628\n",
      "Loops need to find  person 'Feest':   629\n",
      "Loops need to find  person 'Garett':   630\n",
      "Loops need to find  person 'Xavier':   3128\n",
      "Loops need to find  person 'Keri':   3129\n",
      "Loops need to find  person 'Harlow':   3130\n"
     ]
    }
   ],
   "source": [
    "times_1st = []\n",
    "times_2nd = []\n",
    "times_3rd = []\n",
    "times_4th = []\n",
    "times_5th = []\n",
    "\n",
    "for name in search_names_1st: \n",
    "    start = time.perf_counter()\n",
    "    search(name)\n",
    "    end = time.perf_counter()\n",
    "    times_1st.append(end-start)\n",
    "    \n",
    "for name in search_names_2nd:    \n",
    "    start = time.perf_counter()\n",
    "    search(name)\n",
    "    end = time.perf_counter()\n",
    "    times_2nd.append(end-start)\n",
    "    \n",
    "for name in search_names_3rd:    \n",
    "    start = time.perf_counter()\n",
    "    search(name)\n",
    "    end = time.perf_counter()\n",
    "    times_3rd.append(end-start)\n",
    "    \n",
    "for name in search_names_4th:    \n",
    "    start = time.perf_counter()\n",
    "    search(name)\n",
    "    end = time.perf_counter()\n",
    "    times_4th.append(end-start)\n",
    "    \n",
    "for name in search_names_5th:    \n",
    "    start = time.perf_counter()\n",
    "    search(name)\n",
    "    end = time.perf_counter()\n",
    "    times_5th.append(end-start)"
   ]
  },
  {
   "cell_type": "markdown",
   "metadata": {},
   "source": [
    "## Discussion\n",
    "\n",
    "In the section we search for each name at each level. We also print the position where each was found."
   ]
  },
  {
   "cell_type": "markdown",
   "metadata": {},
   "source": [
    "# 3.\n",
    "Organize the results of the study into an table showing the 'name' that you searched for, the level of\n",
    "the search (first, second, third, fourth, fifth), and the time it took. Discuss any findings."
   ]
  },
  {
   "cell_type": "code",
   "execution_count": 194,
   "metadata": {},
   "outputs": [],
   "source": [
    "all_positions = [3,4,5,28,29,30,153,154,155,653,654,655,3148,3149,3150]\n",
    "all_searched_names = search_names_1st +  search_names_2nd  +search_names_3rd + search_names_4th+ search_names_5th\n",
    "\n",
    "all_levels = []\n",
    "for i in range(1,6):\n",
    "    all_levels = all_levels + [i]*3 \n",
    "all_times = times_1st + times_2nd + times_3rd + times_4th + times_5th"
   ]
  },
  {
   "cell_type": "code",
   "execution_count": 195,
   "metadata": {},
   "outputs": [
    {
     "data": {
      "text/html": [
       "<div>\n",
       "<style scoped>\n",
       "    .dataframe tbody tr th:only-of-type {\n",
       "        vertical-align: middle;\n",
       "    }\n",
       "\n",
       "    .dataframe tbody tr th {\n",
       "        vertical-align: top;\n",
       "    }\n",
       "\n",
       "    .dataframe thead th {\n",
       "        text-align: right;\n",
       "    }\n",
       "</style>\n",
       "<table border=\"1\" class=\"dataframe\">\n",
       "  <thead>\n",
       "    <tr style=\"text-align: right;\">\n",
       "      <th></th>\n",
       "      <th>positions</th>\n",
       "      <th>names</th>\n",
       "      <th>levels</th>\n",
       "      <th>times</th>\n",
       "    </tr>\n",
       "  </thead>\n",
       "  <tbody>\n",
       "    <tr>\n",
       "      <th>0</th>\n",
       "      <td>3.0</td>\n",
       "      <td>Giovanna</td>\n",
       "      <td>1.0</td>\n",
       "      <td>0.000142</td>\n",
       "    </tr>\n",
       "    <tr>\n",
       "      <th>1</th>\n",
       "      <td>4.0</td>\n",
       "      <td>Aryanna</td>\n",
       "      <td>1.0</td>\n",
       "      <td>0.000083</td>\n",
       "    </tr>\n",
       "    <tr>\n",
       "      <th>2</th>\n",
       "      <td>5.0</td>\n",
       "      <td>Primus</td>\n",
       "      <td>1.0</td>\n",
       "      <td>0.000070</td>\n",
       "    </tr>\n",
       "    <tr>\n",
       "      <th>3</th>\n",
       "      <td>28.0</td>\n",
       "      <td>Reynolds</td>\n",
       "      <td>2.0</td>\n",
       "      <td>0.000133</td>\n",
       "    </tr>\n",
       "    <tr>\n",
       "      <th>4</th>\n",
       "      <td>29.0</td>\n",
       "      <td>Fernanda</td>\n",
       "      <td>2.0</td>\n",
       "      <td>0.000110</td>\n",
       "    </tr>\n",
       "    <tr>\n",
       "      <th>5</th>\n",
       "      <td>30.0</td>\n",
       "      <td>Kizzy</td>\n",
       "      <td>2.0</td>\n",
       "      <td>0.000165</td>\n",
       "    </tr>\n",
       "    <tr>\n",
       "      <th>6</th>\n",
       "      <td>153.0</td>\n",
       "      <td>Amon</td>\n",
       "      <td>3.0</td>\n",
       "      <td>0.000614</td>\n",
       "    </tr>\n",
       "    <tr>\n",
       "      <th>7</th>\n",
       "      <td>154.0</td>\n",
       "      <td>Simona</td>\n",
       "      <td>3.0</td>\n",
       "      <td>0.000979</td>\n",
       "    </tr>\n",
       "    <tr>\n",
       "      <th>8</th>\n",
       "      <td>155.0</td>\n",
       "      <td>Maverick</td>\n",
       "      <td>3.0</td>\n",
       "      <td>0.000476</td>\n",
       "    </tr>\n",
       "    <tr>\n",
       "      <th>9</th>\n",
       "      <td>653.0</td>\n",
       "      <td>Arla</td>\n",
       "      <td>4.0</td>\n",
       "      <td>0.008300</td>\n",
       "    </tr>\n",
       "    <tr>\n",
       "      <th>10</th>\n",
       "      <td>654.0</td>\n",
       "      <td>Feest</td>\n",
       "      <td>4.0</td>\n",
       "      <td>0.008369</td>\n",
       "    </tr>\n",
       "    <tr>\n",
       "      <th>11</th>\n",
       "      <td>655.0</td>\n",
       "      <td>Garett</td>\n",
       "      <td>4.0</td>\n",
       "      <td>0.005923</td>\n",
       "    </tr>\n",
       "    <tr>\n",
       "      <th>12</th>\n",
       "      <td>3148.0</td>\n",
       "      <td>Xavier</td>\n",
       "      <td>5.0</td>\n",
       "      <td>0.098531</td>\n",
       "    </tr>\n",
       "    <tr>\n",
       "      <th>13</th>\n",
       "      <td>3149.0</td>\n",
       "      <td>Keri</td>\n",
       "      <td>5.0</td>\n",
       "      <td>0.095643</td>\n",
       "    </tr>\n",
       "    <tr>\n",
       "      <th>14</th>\n",
       "      <td>3150.0</td>\n",
       "      <td>Harlow</td>\n",
       "      <td>5.0</td>\n",
       "      <td>0.097311</td>\n",
       "    </tr>\n",
       "  </tbody>\n",
       "</table>\n",
       "</div>"
      ],
      "text/plain": [
       "    positions     names  levels     times\n",
       "0         3.0  Giovanna     1.0  0.000142\n",
       "1         4.0   Aryanna     1.0  0.000083\n",
       "2         5.0    Primus     1.0  0.000070\n",
       "3        28.0  Reynolds     2.0  0.000133\n",
       "4        29.0  Fernanda     2.0  0.000110\n",
       "5        30.0     Kizzy     2.0  0.000165\n",
       "6       153.0      Amon     3.0  0.000614\n",
       "7       154.0    Simona     3.0  0.000979\n",
       "8       155.0  Maverick     3.0  0.000476\n",
       "9       653.0      Arla     4.0  0.008300\n",
       "10      654.0     Feest     4.0  0.008369\n",
       "11      655.0    Garett     4.0  0.005923\n",
       "12     3148.0    Xavier     5.0  0.098531\n",
       "13     3149.0      Keri     5.0  0.095643\n",
       "14     3150.0    Harlow     5.0  0.097311"
      ]
     },
     "execution_count": 195,
     "metadata": {},
     "output_type": "execute_result"
    }
   ],
   "source": [
    "results  = pd.DataFrame([all_positions, all_searched_names,all_levels,all_times]).T\n",
    "\n",
    "results.columns = ['positions', 'names','levels','times']\n",
    "results[['levels','positions','times']] = results[['levels','positions','times']].astype(float)\n",
    "results"
   ]
  },
  {
   "cell_type": "markdown",
   "metadata": {},
   "source": [
    "## Discussion\n",
    "\n",
    "The search time increases as expected.  We can also observe that the position of the last element at each level is approximately 5x the distance of the of the position of the last elements at the previous level (as expected)."
   ]
  },
  {
   "cell_type": "markdown",
   "metadata": {},
   "source": [
    "# 4.\n",
    "\n",
    "Using the average time for each level, create a plot and compare times at each level (five bars or\n",
    "any other suitable visual). Discuss any findings."
   ]
  },
  {
   "cell_type": "code",
   "execution_count": 196,
   "metadata": {},
   "outputs": [
    {
     "data": {
      "text/html": [
       "<div>\n",
       "<style scoped>\n",
       "    .dataframe tbody tr th:only-of-type {\n",
       "        vertical-align: middle;\n",
       "    }\n",
       "\n",
       "    .dataframe tbody tr th {\n",
       "        vertical-align: top;\n",
       "    }\n",
       "\n",
       "    .dataframe thead th {\n",
       "        text-align: right;\n",
       "    }\n",
       "</style>\n",
       "<table border=\"1\" class=\"dataframe\">\n",
       "  <thead>\n",
       "    <tr style=\"text-align: right;\">\n",
       "      <th></th>\n",
       "      <th>positions</th>\n",
       "      <th>times</th>\n",
       "    </tr>\n",
       "    <tr>\n",
       "      <th>levels</th>\n",
       "      <th></th>\n",
       "      <th></th>\n",
       "    </tr>\n",
       "  </thead>\n",
       "  <tbody>\n",
       "    <tr>\n",
       "      <th>1.0</th>\n",
       "      <td>4.0</td>\n",
       "      <td>0.000098</td>\n",
       "    </tr>\n",
       "    <tr>\n",
       "      <th>2.0</th>\n",
       "      <td>29.0</td>\n",
       "      <td>0.000136</td>\n",
       "    </tr>\n",
       "    <tr>\n",
       "      <th>3.0</th>\n",
       "      <td>154.0</td>\n",
       "      <td>0.000690</td>\n",
       "    </tr>\n",
       "    <tr>\n",
       "      <th>4.0</th>\n",
       "      <td>654.0</td>\n",
       "      <td>0.007530</td>\n",
       "    </tr>\n",
       "    <tr>\n",
       "      <th>5.0</th>\n",
       "      <td>3149.0</td>\n",
       "      <td>0.097162</td>\n",
       "    </tr>\n",
       "  </tbody>\n",
       "</table>\n",
       "</div>"
      ],
      "text/plain": [
       "        positions     times\n",
       "levels                     \n",
       "1.0           4.0  0.000098\n",
       "2.0          29.0  0.000136\n",
       "3.0         154.0  0.000690\n",
       "4.0         654.0  0.007530\n",
       "5.0        3149.0  0.097162"
      ]
     },
     "execution_count": 196,
     "metadata": {},
     "output_type": "execute_result"
    }
   ],
   "source": [
    "results_avg = results[['levels','positions','times']].astype(float).groupby(['levels']) .mean()\n",
    "results_avg"
   ]
  },
  {
   "cell_type": "code",
   "execution_count": 197,
   "metadata": {},
   "outputs": [
    {
     "data": {
      "text/plain": [
       "<matplotlib.axes._subplots.AxesSubplot at 0x1cc64b48>"
      ]
     },
     "execution_count": 197,
     "metadata": {},
     "output_type": "execute_result"
    },
    {
     "data": {
      "image/png": "[encoded data removed]",
      "text/plain": [
       "<Figure size 432x288 with 1 Axes>"
      ]
     },
     "metadata": {},
     "output_type": "display_data"
    }
   ],
   "source": [
    "fig = plt.figure()\n",
    "ax1 = fig.add_subplot(111)\n",
    "\n",
    "sns.lineplot(data=results_avg, x=\"positions\", y=\"times\",label='Graph Search Time') "
   ]
  },
  {
   "cell_type": "markdown",
   "metadata": {},
   "source": [
    "## Big O simulated times"
   ]
  },
  {
   "cell_type": "code",
   "execution_count": 161,
   "metadata": {},
   "outputs": [],
   "source": [
    "simulated_time = []\n",
    "num_edges = []\n",
    "for edge in range(100,10000,100):\n",
    "    num_edges.append(edge)\n",
    "    simulated_time_temp = edge + 5*edge \n",
    "    simulated_time.append(simulated_time_temp)\n",
    "    \n",
    "sim_results = pd.DataFrame([num_edges, simulated_time]).T\n",
    "sim_results.columns= ['edges', 'time']"
   ]
  },
  {
   "cell_type": "code",
   "execution_count": 245,
   "metadata": {},
   "outputs": [
    {
     "data": {
      "text/plain": [
       "<matplotlib.axes._subplots.AxesSubplot at 0x1c9e1588>"
      ]
     },
     "execution_count": 245,
     "metadata": {},
     "output_type": "execute_result"
    },
    {
     "data": {
      "image/png": "[encoded data removed]",
      "text/plain": [
       "<Figure size 432x288 with 1 Axes>"
      ]
     },
     "metadata": {},
     "output_type": "display_data"
    }
   ],
   "source": [
    "fig = plt.figure()\n",
    "ax1 = fig.add_subplot(111)\n",
    " \n",
    "sns.lineplot(data=sim_results, x=\"edges\", y=\"time\",label='Simulated search time using edge + 5*edge') \n"
   ]
  },
  {
   "cell_type": "markdown",
   "metadata": {},
   "source": [
    "## Discussion\n",
    "\n",
    "The two graphs above show actual and simulated search times. This alow us to compare the results and shape of these graphs when stacked against one and the other. The discussion and the meaning are provided in the executive summary. "
   ]
  },
  {
   "attachments": {
    "image.png": {
     "image/png": "[encoded data removed]"
    }
   },
   "cell_type": "markdown",
   "metadata": {},
   "source": [
    "# Executive Summary \n",
    "\n",
    "\n",
    "In this exercise, we explored graph data structures and search times using ***Breadth-first Search*** algorithm needed to search the graph. The graph we create consisted ***entirely*** of unique names, and in this exercise the graph did not have the reverse connections (all edges are one-directional). The steps in this  exercise consisted of:\n",
    "\n",
    "1. Create a graph with 5 levels. We start with 5 nodes at the first level and add 5 people to each node at each subsequent level. For this exercise, I created a list of fake names borrowing from Faker python package. As each name was created as a node it was removed from the sample of names list to ensure we have unique names in the graph.   \n",
    "2. Search for the (last) three people from each level in the ordered they were added. The last three members were chosen to simulate the worst case of Big O. \n",
    "3. Organize the results in the table\n",
    "4. Graph the results  \n",
    "\n",
    "Creating the graph data structure was the most challenging part of this exercise. I used the ordered dictionary (OrderedDict) adjusted for my need as a data structure for the graph. Ordered List preserves the order of addition (unlike regular dict) which allows you to track the progress and ensure accuracy. We start the creation of the graph by adding 5 elements to the topmost node ('me'). We then move to the first, second, third, fourth, and fifth levels until each node has 5 people each. At each level the number of people increases by ~5x  the previous level:\n",
    "\n",
    "1. 5\n",
    "2. 25\n",
    "3. 100\n",
    "4. 500\n",
    "5. 2500\n",
    "6. 12500\n",
    "\n",
    "For the search part of the exercise I modified the ***person_name_match*** to return true when the search name matches the person. I also added a counter in the search to measure the number of loops it takes to find each person. For each level, I choose to search for 3 people that were added last. \n",
    "\n",
    "When we plot the average results of search times we get the following graph shape:\n",
    "\n",
    "![image.png](attachment:image.png)\n",
    "\n",
    "Big O for graph search has the worst case as O(V+E) where V is the number of vertices (or connections) and E is the number of edges. Because we are searching the entire graph for a person, it takes O(1) to add each person to a queue (since we are tracking people we search), and we also need to search all edges in the worst case. That is why we have an additive aspect in the Big O notation. If we plot the ***simulated***  search times (these are not the actual search times) the graph would look like this:       "
   ]
  },
  {
   "attachments": {
    "image.png": {
     "image/png": "[encoded data removed]"
    }
   },
   "cell_type": "markdown",
   "metadata": {},
   "source": [
    "![image.png](attachment:image.png)\n",
    "\n",
    "The simulate plot (above) indicates that simulated big O is purely linear. The actual search time plot shows also linear search times. This indicated that Big O for Breadth-first search is linear and our search results are exactly within expectations."
   ]
  },
  {
   "cell_type": "code",
   "execution_count": null,
   "metadata": {},
   "outputs": [],
   "source": []
  }
 ],
 "metadata": {
  "kernelspec": {
   "display_name": "Python 3",
   "language": "python",
   "name": "python3"
  },
  "language_info": {
   "codemirror_mode": {
    "name": "ipython",
    "version": 3
   },
   "file_extension": ".py",
   "mimetype": "text/x-python",
   "name": "python",
   "nbconvert_exporter": "python",
   "pygments_lexer": "ipython3",
   "version": "3.7.7"
  }
 },
 "nbformat": 4,
 "nbformat_minor": 4
}
