{
 "cells": [
  {
   "attachments": {
    "image.png": {
     "image/png": "[encoded data removed]"
    }
   },
   "cell_type": "markdown",
   "metadata": {},
   "source": [
    "# Executive Summary\n",
    "\n",
    "In this exercise, we compared the execution of the ***selection sort*** for various arrays sizes. The procedure to complete the exercises consisted of 1) randomly generate the array of various integer size using array size 5000 as a starting point increased by 5000 up to 25,000, 2) execute the selection sort algorithm and measure the execution time, 3) record the results in a pandas data frame, and finally 4) plot the outcome of the analysis. \n",
    "\n",
    "\n",
    "For this exercise I used the python's default ***timeit*** function that reports times in seconds (for previous exercise %timeit magic from IPython was used). Therefore the final result is converted into milliseconds by using a 1000x multiplier. The time to sort 5000 integers takes about 980 ms (0.98 s). The time increase exponential as the size of the array increase. For our largest array, the time has increased to approximately 25,000 ms (25 s). The times of execution for each array size can be observed in the following graph:\n",
    "\n",
    "\n",
    "![image.png](attachment:image.png)\n",
    "\n",
    "\n",
    "Big O for selection sort is O($n^2$). The results of the analysis show that as the array size increase the execution time increases exponentially.  This graph above shows exactly that. This exponential increase in execution time is exactly what we would expect based on the Big O notation."
   ]
  },
  {
   "cell_type": "code",
   "execution_count": 2,
   "metadata": {},
   "outputs": [],
   "source": [
    "import copy\n",
    "import numpy as np\n",
    "import timeit\n",
    "import inspect"
   ]
  },
  {
   "cell_type": "code",
   "execution_count": 3,
   "metadata": {},
   "outputs": [],
   "source": [
    "def create_random_array(low,high,size,seed):    \n",
    "    np.random.seed(seed)\n",
    "    integer_array = np.random.randint(low,high,size)   \n",
    "    return integer_array  #  np.sort(integer_array, kind='quicksort' )\n",
    "\n",
    "# Finds the smallest value in an array\n",
    "def findSmallest(arr):\n",
    "  # Stores the smallest value\n",
    "  smallest = arr[0]\n",
    "  # Stores the index of the smallest value\n",
    "  smallest_index = 0\n",
    "  for i in range(1, len(arr)):\n",
    "    if arr[i] < smallest:\n",
    "      smallest_index = i\n",
    "      smallest = arr[i]      \n",
    "  return smallest_index\n",
    "\n",
    "def selectionSort(arr):\n",
    "  newArr = []\n",
    " \n",
    "  for i in range(len(arr)):\n",
    "      # Finds the smallest element in the array and adds it to the new array\n",
    "      smallest = findSmallest(arr)\n",
    "      newArr.append(arr.pop(smallest))\n",
    "  return newArr"
   ]
  },
  {
   "cell_type": "markdown",
   "metadata": {
    "scrolled": false
   },
   "source": [
    "# Section #1. \n",
    "\n",
    "1. We will again generate random data for this assignment. Please set up five data arrays of length\n",
    "5,000, 10,000, 15,000, 20,000, and 25,000 of uniformly distributed random numbers (you may use\n",
    "either integers or floating point). Ensure that a common random number seed is used to generate\n",
    "each of the arrays.\n",
    "\n",
    "### Lets create arrays"
   ]
  },
  {
   "cell_type": "code",
   "execution_count": 4,
   "metadata": {},
   "outputs": [],
   "source": [
    "    \n",
    "array_5000 = list(create_random_array(low=1,high=25000+1,size=5000, seed=1))\n",
    "array_10000 =  list(create_random_array(low=1,high=25000+1,size=10000, seed=1))\n",
    "array_15000 =  list(create_random_array(low=1,high=25000+1,size=15000, seed=1))\n",
    "array_20000 =  list(create_random_array(low=1,high=25000+1,size=20000, seed=1))\n",
    "array_25000 =  list(create_random_array(low=1,high=25000+1,size=25000, seed=1))\n",
    "\n",
    "arrays = [array_5000,array_10000, array_15000,array_20000,array_25000 ]"
   ]
  },
  {
   "cell_type": "markdown",
   "metadata": {},
   "source": [
    "### Discussion #1\n",
    "\n",
    "The random data is generated using numpy's and integers were pulled from the uniform random distribution."
   ]
  },
  {
   "cell_type": "markdown",
   "metadata": {},
   "source": [
    "# Section #2.\n",
    "\n",
    "2. Execute the base algorithm (Selection Sort) for each of the random number arrays, noting the\n",
    "execution time with each execution. Use one of the timing methods we learned in class"
   ]
  },
  {
   "cell_type": "code",
   "execution_count": 5,
   "metadata": {},
   "outputs": [],
   "source": [
    "def retrieve_name(var):\n",
    "    callers_local_vars = inspect.currentframe().f_back.f_locals.items()\n",
    "    return [var_name for var_name, var_val in callers_local_vars if var_val is var]"
   ]
  },
  {
   "cell_type": "code",
   "execution_count": 6,
   "metadata": {},
   "outputs": [
    {
     "name": "stdout",
     "output_type": "stream",
     "text": [
      "array_5000 0.9478696229999741\n",
      "array_10000 3.7629675570000245\n",
      "array_15000 8.374671970999998\n",
      "array_20000 14.845370555000045\n",
      "array_25000 23.408704459999967\n"
     ]
    }
   ],
   "source": [
    "results_sort = []\n",
    "for array  in arrays:\n",
    "    array_temp = copy.deepcopy(array)\n",
    "    array_name = retrieve_name(array)[0]\n",
    "    results = timeit.timeit('selectionSort({})'.format(\"array_temp\"), setup='from __main__ import selectionSort, {}'.format(\"array_temp\"), number=10)\n",
    "    print(array_name,results)\n",
    "    results_sort.append(results*1000)\n"
   ]
  },
  {
   "cell_type": "markdown",
   "metadata": {},
   "source": [
    "### Discussion #3\n",
    "\n",
    "In this example, we have sorted the arrays using the selection sort algorithm. We have looped over the collection of arrays and using timeit function estimated the execution time to sort each array. Note that I used deepcopy() to prevent the original array to be modified with selection sort, which it would be due to ***pop*** method that that pop the elements from python's list. The copy operation is not counted toward the time of execution."
   ]
  },
  {
   "cell_type": "markdown",
   "metadata": {},
   "source": [
    "# Section #3.\n",
    "\n",
    "3. Just as in the last assignment, please organize the results of the study into a table showing the size\n",
    "of data array and the time taken to sort the array. Discuss the differences in timing and how they\n",
    "relate to data type and length of array."
   ]
  },
  {
   "cell_type": "code",
   "execution_count": 57,
   "metadata": {},
   "outputs": [
    {
     "data": {
      "text/html": [
       "<div>\n",
       "<style scoped>\n",
       "    .dataframe tbody tr th:only-of-type {\n",
       "        vertical-align: middle;\n",
       "    }\n",
       "\n",
       "    .dataframe tbody tr th {\n",
       "        vertical-align: top;\n",
       "    }\n",
       "\n",
       "    .dataframe thead th {\n",
       "        text-align: right;\n",
       "    }\n",
       "</style>\n",
       "<table border=\"1\" class=\"dataframe\">\n",
       "  <thead>\n",
       "    <tr style=\"text-align: right;\">\n",
       "      <th></th>\n",
       "      <th>array_length</th>\n",
       "      <th>sort_time_ms</th>\n",
       "    </tr>\n",
       "  </thead>\n",
       "  <tbody>\n",
       "    <tr>\n",
       "      <th>0</th>\n",
       "      <td>5000.0</td>\n",
       "      <td>992.178680</td>\n",
       "    </tr>\n",
       "    <tr>\n",
       "      <th>1</th>\n",
       "      <td>10000.0</td>\n",
       "      <td>4109.010314</td>\n",
       "    </tr>\n",
       "    <tr>\n",
       "      <th>2</th>\n",
       "      <td>15000.0</td>\n",
       "      <td>9262.160126</td>\n",
       "    </tr>\n",
       "    <tr>\n",
       "      <th>3</th>\n",
       "      <td>20000.0</td>\n",
       "      <td>16976.480263</td>\n",
       "    </tr>\n",
       "    <tr>\n",
       "      <th>4</th>\n",
       "      <td>25000.0</td>\n",
       "      <td>25643.194229</td>\n",
       "    </tr>\n",
       "  </tbody>\n",
       "</table>\n",
       "</div>"
      ],
      "text/plain": [
       "   array_length  sort_time_ms\n",
       "0        5000.0    992.178680\n",
       "1       10000.0   4109.010314\n",
       "2       15000.0   9262.160126\n",
       "3       20000.0  16976.480263\n",
       "4       25000.0  25643.194229"
      ]
     },
     "execution_count": 57,
     "metadata": {},
     "output_type": "execute_result"
    }
   ],
   "source": [
    "data = [\n",
    "    [5000,10000,15000,20000,25000],\n",
    "    results_sort     \n",
    "] \n",
    "data_df = pd.DataFrame(data).T\n",
    "data_df.columns =['array_length','sort_time_ms' ]\n",
    "data_df"
   ]
  },
  {
   "cell_type": "markdown",
   "metadata": {},
   "source": [
    "### Discussion #2.\n",
    "\n",
    "We create dataset with array size and sort times in ms. The original times is reported in seconds so it got multiplied by 1000.  "
   ]
  },
  {
   "cell_type": "markdown",
   "metadata": {},
   "source": [
    "# Section #4.\n",
    "\n",
    "4. Use Python matplotlib or Seaborn to generate a measure of the size of the data set on the horizontal\n",
    "axis and with execution time in milliseconds on the vertical axis. The plot should show execution time\n",
    "against problem size for each form of the algorithm being tested."
   ]
  },
  {
   "cell_type": "code",
   "execution_count": 61,
   "metadata": {},
   "outputs": [
    {
     "data": {
      "image/png": "[encoded data removed]",
      "text/plain": [
       "<Figure size 432x288 with 1 Axes>"
      ]
     },
     "metadata": {},
     "output_type": "display_data"
    }
   ],
   "source": [
    " \n",
    "sns.lineplot(data=data_df, x=\"array_length\", y=\"sort_time_ms\", label = 'Selection Sort - time in ms')\n",
    "plt.legend()\n",
    "plt.title('Selection Sort',fontsize= 15);"
   ]
  },
  {
   "cell_type": "markdown",
   "metadata": {},
   "source": [
    "### Discussion #4.\n",
    "\n",
    "Selection sort has a big O of O($n^2$). The expectation is that when represented graphically the execution time increase in an exponential fashion. We can observe the exponential shape in the execution time plot. In this graph Y-axis represents the time of execution in milliseconds (ms) while the X-axis represents the array. The graph shape is consistent with the Big O notation and expected time of execution.  "
   ]
  }
 ],
 "metadata": {
  "kernelspec": {
   "display_name": "Python 3",
   "language": "python",
   "name": "python3"
  },
  "language_info": {
   "codemirror_mode": {
    "name": "ipython",
    "version": 3
   },
   "file_extension": ".py",
   "mimetype": "text/x-python",
   "name": "python",
   "nbconvert_exporter": "python",
   "pygments_lexer": "ipython3",
   "version": "3.7.7"
  }
 },
 "nbformat": 4,
 "nbformat_minor": 4
}
